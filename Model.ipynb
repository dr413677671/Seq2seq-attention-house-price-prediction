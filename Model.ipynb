{
 "cells": [
  {
   "cell_type": "code",
   "execution_count": 1,
   "metadata": {},
   "outputs": [
    {
     "name": "stderr",
     "output_type": "stream",
     "text": [
      "D:\\Anaconda\\envs\\tensor14\\lib\\site-packages\\tensorflow\\python\\framework\\dtypes.py:516: FutureWarning: Passing (type, 1) or '1type' as a synonym of type is deprecated; in a future version of numpy, it will be understood as (type, (1,)) / '(1,)type'.\n",
      "  _np_qint8 = np.dtype([(\"qint8\", np.int8, 1)])\n",
      "D:\\Anaconda\\envs\\tensor14\\lib\\site-packages\\tensorflow\\python\\framework\\dtypes.py:517: FutureWarning: Passing (type, 1) or '1type' as a synonym of type is deprecated; in a future version of numpy, it will be understood as (type, (1,)) / '(1,)type'.\n",
      "  _np_quint8 = np.dtype([(\"quint8\", np.uint8, 1)])\n",
      "D:\\Anaconda\\envs\\tensor14\\lib\\site-packages\\tensorflow\\python\\framework\\dtypes.py:518: FutureWarning: Passing (type, 1) or '1type' as a synonym of type is deprecated; in a future version of numpy, it will be understood as (type, (1,)) / '(1,)type'.\n",
      "  _np_qint16 = np.dtype([(\"qint16\", np.int16, 1)])\n",
      "D:\\Anaconda\\envs\\tensor14\\lib\\site-packages\\tensorflow\\python\\framework\\dtypes.py:519: FutureWarning: Passing (type, 1) or '1type' as a synonym of type is deprecated; in a future version of numpy, it will be understood as (type, (1,)) / '(1,)type'.\n",
      "  _np_quint16 = np.dtype([(\"quint16\", np.uint16, 1)])\n",
      "D:\\Anaconda\\envs\\tensor14\\lib\\site-packages\\tensorflow\\python\\framework\\dtypes.py:520: FutureWarning: Passing (type, 1) or '1type' as a synonym of type is deprecated; in a future version of numpy, it will be understood as (type, (1,)) / '(1,)type'.\n",
      "  _np_qint32 = np.dtype([(\"qint32\", np.int32, 1)])\n",
      "D:\\Anaconda\\envs\\tensor14\\lib\\site-packages\\tensorflow\\python\\framework\\dtypes.py:525: FutureWarning: Passing (type, 1) or '1type' as a synonym of type is deprecated; in a future version of numpy, it will be understood as (type, (1,)) / '(1,)type'.\n",
      "  np_resource = np.dtype([(\"resource\", np.ubyte, 1)])\n",
      "D:\\Anaconda\\envs\\tensor14\\lib\\site-packages\\tensorboard\\compat\\tensorflow_stub\\dtypes.py:541: FutureWarning: Passing (type, 1) or '1type' as a synonym of type is deprecated; in a future version of numpy, it will be understood as (type, (1,)) / '(1,)type'.\n",
      "  _np_qint8 = np.dtype([(\"qint8\", np.int8, 1)])\n",
      "D:\\Anaconda\\envs\\tensor14\\lib\\site-packages\\tensorboard\\compat\\tensorflow_stub\\dtypes.py:542: FutureWarning: Passing (type, 1) or '1type' as a synonym of type is deprecated; in a future version of numpy, it will be understood as (type, (1,)) / '(1,)type'.\n",
      "  _np_quint8 = np.dtype([(\"quint8\", np.uint8, 1)])\n",
      "D:\\Anaconda\\envs\\tensor14\\lib\\site-packages\\tensorboard\\compat\\tensorflow_stub\\dtypes.py:543: FutureWarning: Passing (type, 1) or '1type' as a synonym of type is deprecated; in a future version of numpy, it will be understood as (type, (1,)) / '(1,)type'.\n",
      "  _np_qint16 = np.dtype([(\"qint16\", np.int16, 1)])\n",
      "D:\\Anaconda\\envs\\tensor14\\lib\\site-packages\\tensorboard\\compat\\tensorflow_stub\\dtypes.py:544: FutureWarning: Passing (type, 1) or '1type' as a synonym of type is deprecated; in a future version of numpy, it will be understood as (type, (1,)) / '(1,)type'.\n",
      "  _np_quint16 = np.dtype([(\"quint16\", np.uint16, 1)])\n",
      "D:\\Anaconda\\envs\\tensor14\\lib\\site-packages\\tensorboard\\compat\\tensorflow_stub\\dtypes.py:545: FutureWarning: Passing (type, 1) or '1type' as a synonym of type is deprecated; in a future version of numpy, it will be understood as (type, (1,)) / '(1,)type'.\n",
      "  _np_qint32 = np.dtype([(\"qint32\", np.int32, 1)])\n",
      "D:\\Anaconda\\envs\\tensor14\\lib\\site-packages\\tensorboard\\compat\\tensorflow_stub\\dtypes.py:550: FutureWarning: Passing (type, 1) or '1type' as a synonym of type is deprecated; in a future version of numpy, it will be understood as (type, (1,)) / '(1,)type'.\n",
      "  np_resource = np.dtype([(\"resource\", np.ubyte, 1)])\n"
     ]
    },
    {
     "name": "stdout",
     "output_type": "stream",
     "text": [
      "1 Physical GPUs, 1 Logical GPUs\n"
     ]
    }
   ],
   "source": [
    "import tensorflow as tf\n",
    "gpus = tf.config.experimental.list_physical_devices('GPU')\n",
    "if gpus:\n",
    "  # Restrict TensorFlow to only allocate 1GB of memory on the first GPU\n",
    "  try:\n",
    "    tf.config.experimental.set_virtual_device_configuration(\n",
    "        gpus[0],\n",
    "        [tf.config.experimental.VirtualDeviceConfiguration(memory_limit=6000)])\n",
    "    logical_gpus = tf.config.experimental.list_logical_devices('GPU')\n",
    "    print(len(gpus), \"Physical GPUs,\", len(logical_gpus), \"Logical GPUs\")\n",
    "  except RuntimeError as e:\n",
    "    # Virtual devices must be set before GPUs have been initialized\n",
    "    print(e)"
   ]
  },
  {
   "cell_type": "code",
   "execution_count": 6,
   "metadata": {
    "collapsed": true
   },
   "outputs": [],
   "source": [
    "import pickle\n",
    "import pandas as pd\n",
    "import warnings\n",
    "warnings.filterwarnings('ignore')\n",
    "\n",
    "with open('data.pickle','rb') as f:\n",
    "    data=pickle.load(f)\n",
    "\n",
    "def deaccu_year(data):\n",
    "    def deaccu(dat):\n",
    "        for i in range(-1,-len(dat),-1):\n",
    "            dat[i]=dat[i]-dat[i-1]\n",
    "        return dat\n",
    "    \n",
    "    for i in range(8):\n",
    "        data[i*12:i*12+12]=deaccu(data[i*12:i*12+12])\n",
    "    return data\n",
    "\n",
    "def data_generator(data,label, batch,window=6, forward=1, stride=1):\n",
    "    def sort_months(months):\n",
    "        result=[]\n",
    "        for index,row in months.iterrows():\n",
    "            result.append(list(row))\n",
    "        return result\n",
    "    x,s,c=[],[],[]\n",
    "    X, Y = [], []\n",
    "    counter=0\n",
    "    i=0\n",
    "    while(1):\n",
    "        if i>len(data) - window-1:\n",
    "            i=0\n",
    "        x.append(np.array( sort_months(data[i:(i + window)].astype('float')) ))\n",
    "        s.append(np.zeros((100)))\n",
    "        c.append(np.zeros((100)))\n",
    "\n",
    "        Y.append(np.expand_dims(label[(i + window):(i + window + forward)],axis=1))\n",
    "\n",
    "        i=i+stride\n",
    "        if counter ==batch-1:\n",
    "            counter=0\n",
    "            X=([x,s,c])\n",
    "            yield X,np.array(Y).astype('float')\n",
    "            X, Y = [], []\n",
    "            x,s,c=[],[],[]\n",
    "        else:\n",
    "            counter=counter+1"
   ]
  },
  {
   "cell_type": "code",
   "execution_count": 7,
   "metadata": {
    "collapsed": true
   },
   "outputs": [],
   "source": [
    "from sklearn import preprocessing\n",
    "# 计算y\n",
    "price=deaccu_year(data['sqr quant'])\n",
    "for i in range(8):\n",
    "    price[i*12+1]=price[i*12]\n",
    "square=deaccu_year(data['sqr sum'])\n",
    "for i in range(8):\n",
    "    square[i*12+1]=square[i*12]\n",
    "label=(price/square)*10000\n",
    "\n",
    "# 标准化\n",
    "label=preprocessing.scale(label)\n",
    "for i in data.columns:\n",
    "    data[i]=preprocessing.scale(data[i])"
   ]
  },
  {
   "cell_type": "code",
   "execution_count": 4,
   "metadata": {
    "collapsed": true
   },
   "outputs": [],
   "source": [
    "# import numpy as np\n",
    "\n",
    "# def data_generator(data,label, batch,window=6, forward=1, stride=1):\n",
    "#     def sort_months(months):\n",
    "#         result=[]\n",
    "#         for index,row in months.iterrows():\n",
    "#             result.append(list(row))\n",
    "# #         print(months.index)\n",
    "#         return result\n",
    "    \n",
    "#     X, Y = [], []\n",
    "#     counter=0\n",
    "#     i=0\n",
    "#     while(1):\n",
    "#         if i>len(data) - window-1:\n",
    "#             i=0\n",
    "        \n",
    "#         X.append(sort_months(data[i:(i + window)]))\n",
    "        \n",
    "# #         X.append(([label[(i + window-forward):(i + window )]]))\n",
    "#         Y.append((label[(i + window):(i + window + forward)]))\n",
    "# #         Y.append((label[(i + window-forward):(i + window )]))\n",
    "#         i=i+stride\n",
    "#         if counter ==batch-1:\n",
    "#             counter=0\n",
    "# #             try:\n",
    "#             yield np.array(X).astype('float'),np.array(Y).astype('float')\n",
    "# #             except:\n",
    "# #                 print(X)\n",
    "# #                 print(Y)\n",
    "#             X, Y = [], []\n",
    "#         else:\n",
    "#             counter=counter+1"
   ]
  },
  {
   "cell_type": "code",
   "execution_count": 5,
   "metadata": {
    "collapsed": true
   },
   "outputs": [],
   "source": [
    "# window=6\n",
    "# batch=1\n",
    "# forward=3\n",
    "# stride=3\n",
    "# # new=data\n",
    "# new=data.drop(['sqr quant','sqr sum'],axis=1)\n",
    "# train_generator=data_generator(new[0:60],label,batch=batch, window=window, forward=forward, stride=stride)\n",
    "# test_generator=data_generator(new[60:96],label,batch=batch, window=window, forward=forward, stride=stride)"
   ]
  },
  {
   "cell_type": "code",
   "execution_count": 8,
   "metadata": {
    "collapsed": true
   },
   "outputs": [],
   "source": [
    "import math\n",
    "import numpy as np\n",
    "from tensorflow.keras import backend as K\n",
    "from tensorflow.keras.models import Sequential, load_model, Model\n",
    "from tensorflow.keras.layers import LSTM, Dense, Activation, TimeDistributed, Dropout, Lambda, RepeatVector, Input, Reshape, Concatenate, Dot\n",
    "from tensorflow.keras.callbacks import ModelCheckpoint\n",
    "from sklearn.preprocessing import MinMaxScaler\n",
    "\n",
    "def softmax(x, axis=1):\n",
    "    \"\"\"Softmax activation function.\n",
    "    # Arguments\n",
    "        x : Tensor.\n",
    "        axis: Integer, axis along which the softmax normalization is applied.\n",
    "    # Returns\n",
    "        Tensor, output of softmax transformation.\n",
    "    # Raises\n",
    "        ValueError: In case `dim(x) == 1`.\n",
    "    \"\"\"\n",
    "    ndim = K.ndim(x)\n",
    "    if ndim == 2:\n",
    "        return K.softmax(x)\n",
    "    elif ndim > 2:\n",
    "        e = K.exp(x - K.max(x, axis=axis, keepdims=True))\n",
    "        s = K.sum(e, axis=axis, keepdims=True)\n",
    "        return e / s\n",
    "    else:\n",
    "        raise ValueError('Cannot apply softmax to a tensor that is 1D')\n",
    "def one_step_attention(a, s_prev, repeator, concatenator, densor, activator, dotor):\n",
    "    s_prev = repeator(s_prev)\n",
    "    concat = concatenator([s_prev, a])\n",
    "    e = densor(concat)\n",
    "    alphas = activator(e)\n",
    "    context =  dotor([alphas, a])\n",
    "    return context\n",
    "def seq2seq_attention(feature_len=1, after_day=1, input_shape=(20, 1), time_step=20):\n",
    "    # Define the inputs of your model with a shape (Tx, feature)\n",
    "    X = Input(shape=input_shape)\n",
    "    s0 = Input(shape=(100, ), name='s0')\n",
    "    c0 = Input(shape=(100, ), name='c0')\n",
    "    s = s0\n",
    "    c = c0\n",
    "\n",
    "    # Initialize empty list of outputs\n",
    "    all_outputs = []\n",
    "\n",
    "    # Encoder: pre-attention LSTM\n",
    "    encoder_outputs = LSTM(units=100, return_state=False, return_sequences=True, name='encoder')(X)\n",
    "    # Decoder: post-attention LSTM\n",
    "    decoder = LSTM(units=100, return_state=True, name='decoder')\n",
    "    # Output\n",
    "    decoder_output = Dense(units=1, activation='linear', name='output')\n",
    "    model_output = Reshape((1, 1))\n",
    "\n",
    "    # Attention\n",
    "    repeator = RepeatVector(time_step)\n",
    "    concatenator = Concatenate(axis=-1)\n",
    "    densor = Dense(1, activation = \"relu\")\n",
    "    activator = Activation(softmax, name='attention_weights')\n",
    "    dotor =  Dot(axes = 1)\n",
    "\n",
    "    for t in range(after_day):\n",
    "        context = one_step_attention(encoder_outputs, s, repeator, concatenator, densor, activator, dotor)\n",
    "\n",
    "        a, s, c = decoder(context, initial_state=[s, c])\n",
    "\n",
    "        outputs = decoder_output(a)\n",
    "        outputs = model_output(outputs)\n",
    "        all_outputs.append(outputs)\n",
    "\n",
    "    all_outputs = Lambda(lambda x: K.concatenate(x, axis=1))(all_outputs)\n",
    "    model = Model(inputs=[X, s0, c0], outputs=all_outputs)\n",
    "    return model"
   ]
  },
  {
   "cell_type": "code",
   "execution_count": 9,
   "metadata": {
    "collapsed": true
   },
   "outputs": [],
   "source": [
    "window=6\n",
    "batch=3\n",
    "forward=3\n",
    "stride=3\n",
    "split=60\n",
    "new=data.drop(['sqr quant','sqr sum'],axis=1)\n",
    "train_generator=data_generator(new[split:],label[split:],batch=batch, window=window, forward=forward, stride=stride)\n",
    "test_generator=data_generator(new[:split],label[:split],batch=batch, window=window, forward=forward, stride=stride)\n",
    "total_generator=data_generator(new[:],label,batch=batch, window=window, forward=forward, stride=stride)\n",
    "# train_generator=data_generator(new[:split],label[:split],batch=batch, window=window, forward=forward, stride=stride)\n",
    "# test_generator=data_generator(new[split:],label[split:],batch=batch, window=window, forward=forward, stride=stride)\n",
    "# total_generator=data_generator(new[:],label,batch=batch, window=window, forward=forward, stride=stride)"
   ]
  },
  {
   "cell_type": "code",
   "execution_count": 6,
   "metadata": {},
   "outputs": [
    {
     "name": "stderr",
     "output_type": "stream",
     "text": [
      "WARNING: Logging before flag parsing goes to stderr.\n",
      "W0213 22:10:05.806153  5160 deprecation.py:506] From D:\\Anaconda\\envs\\tensor14\\lib\\site-packages\\tensorflow\\python\\ops\\init_ops.py:1251: calling VarianceScaling.__init__ (from tensorflow.python.ops.init_ops) with dtype is deprecated and will be removed in a future version.\n",
      "Instructions for updating:\n",
      "Call initializer instance with the dtype argument instead of passing it to the constructor\n"
     ]
    }
   ],
   "source": [
    "from tensorflow.keras.layers import Dense, Input,LSTM,Conv1D,GlobalMaxPool1D,Masking\n",
    "from tensorflow.keras.layers import  Embedding, Dropout,Bidirectional,Concatenate,TimeDistributed\n",
    "from tensorflow.keras.models import Model\n",
    "from imp import reload\n",
    "window=6\n",
    "batch=2\n",
    "forward=3\n",
    "stride=3\n",
    "\n",
    "input_shape = (window,len(new.iloc[1]))\n",
    "model = seq2seq_attention(len(new), forward, input_shape, window)\n",
    "model.compile(loss='mean_squared_error', optimizer='adam')"
   ]
  },
  {
   "cell_type": "code",
   "execution_count": 13,
   "metadata": {},
   "outputs": [
    {
     "name": "stderr",
     "output_type": "stream",
     "text": [
      "W0212 22:54:12.172579 12072 deprecation.py:323] From D:\\Anaconda\\envs\\tensor14\\lib\\site-packages\\tensorflow\\python\\ops\\math_grad.py:1250: add_dispatch_support.<locals>.wrapper (from tensorflow.python.ops.array_ops) is deprecated and will be removed in a future version.\n",
      "Instructions for updating:\n",
      "Use tf.where in 2.0, which has the same broadcast rule as np.where\n"
     ]
    },
    {
     "name": "stdout",
     "output_type": "stream",
     "text": [
      "Epoch 1/24\n",
      " 1/15 [=>............................] - ETA: 50s - loss: 0.1206"
     ]
    },
    {
     "name": "stderr",
     "output_type": "stream",
     "text": [
      "W0212 22:54:15.846298 12072 callbacks.py:257] Method (on_train_batch_end) is slow compared to the batch update (0.131508). Check your callbacks.\n"
     ]
    },
    {
     "name": "stdout",
     "output_type": "stream",
     "text": [
      "\b\b\b\b\b\b\b\b\b\b\b\b\b\b\b\b\b\b\b\b\b\b\b\b\b\b\b\b\b\b\b\b\b\b\b\b\b\b\b\b\b\b\b\b\b\b\b\b\b\b\b\b\b\b\b\b\b\b\b\b\b\b\b\b\r\n",
      " 2/15 [===>..........................] - ETA: 24s - loss: 0.1028"
     ]
    },
    {
     "name": "stderr",
     "output_type": "stream",
     "text": [
      "W0212 22:54:15.870262 12072 callbacks.py:257] Method (on_train_batch_end) is slow compared to the batch update (0.115313). Check your callbacks.\n"
     ]
    },
    {
     "name": "stdout",
     "output_type": "stream",
     "text": [
      "14/15 [===========================>..] - ETA: 0s - loss: 0.4796\n",
      "Epoch 00001: saving model to ./HousePrice/seq2seq\\mod\\20200212_48before\\weights-01-0.38.hdf5\n",
      "15/15 [==============================] - 5s 307ms/step - loss: 0.4521 - val_loss: 0.3844\n",
      "Epoch 2/24\n",
      "13/15 [=========================>....] - ETA: 0s - loss: 0.1029\n",
      "Epoch 00002: saving model to ./HousePrice/seq2seq\\mod\\20200212_48before\\weights-02-0.44.hdf5\n",
      "15/15 [==============================] - 1s 36ms/step - loss: 0.0931 - val_loss: 0.4362\n",
      "Epoch 3/24\n",
      "13/15 [=========================>....] - ETA: 0s - loss: 0.0386\n",
      "Epoch 00003: saving model to ./HousePrice/seq2seq\\mod\\20200212_48before\\weights-03-0.50.hdf5\n",
      "15/15 [==============================] - 1s 35ms/step - loss: 0.0351 - val_loss: 0.5005\n",
      "Epoch 4/24\n",
      "13/15 [=========================>....] - ETA: 0s - loss: 0.0155\n",
      "Epoch 00004: saving model to ./HousePrice/seq2seq\\mod\\20200212_48before\\weights-04-0.48.hdf5\n",
      "15/15 [==============================] - 1s 34ms/step - loss: 0.0149 - val_loss: 0.4756\n",
      "Epoch 5/24\n",
      "13/15 [=========================>....] - ETA: 0s - loss: 0.0099\n",
      "Epoch 00005: saving model to ./HousePrice/seq2seq\\mod\\20200212_48before\\weights-05-0.50.hdf5\n",
      "15/15 [==============================] - 0s 33ms/step - loss: 0.0097 - val_loss: 0.5010\n",
      "Epoch 6/24\n",
      "13/15 [=========================>....] - ETA: 0s - loss: 0.0084\n",
      "Epoch 00006: saving model to ./HousePrice/seq2seq\\mod\\20200212_48before\\weights-06-0.47.hdf5\n",
      "15/15 [==============================] - 1s 35ms/step - loss: 0.0084 - val_loss: 0.4665\n",
      "Epoch 7/24\n",
      "13/15 [=========================>....] - ETA: 0s - loss: 0.0059\n",
      "Epoch 00007: saving model to ./HousePrice/seq2seq\\mod\\20200212_48before\\weights-07-0.51.hdf5\n",
      "15/15 [==============================] - 1s 35ms/step - loss: 0.0065 - val_loss: 0.5072\n",
      "Epoch 8/24\n",
      "13/15 [=========================>....] - ETA: 0s - loss: 0.0055\n",
      "Epoch 00008: saving model to ./HousePrice/seq2seq\\mod\\20200212_48before\\weights-08-0.47.hdf5\n",
      "15/15 [==============================] - 1s 35ms/step - loss: 0.0053 - val_loss: 0.4698\n",
      "Epoch 9/24\n",
      "13/15 [=========================>....] - ETA: 0s - loss: 0.0049\n",
      "Epoch 00009: saving model to ./HousePrice/seq2seq\\mod\\20200212_48before\\weights-09-0.51.hdf5\n",
      "15/15 [==============================] - 1s 38ms/step - loss: 0.0045 - val_loss: 0.5097\n",
      "Epoch 10/24\n",
      "13/15 [=========================>....] - ETA: 0s - loss: 0.0044\n",
      "Epoch 00010: saving model to ./HousePrice/seq2seq\\mod\\20200212_48before\\weights-10-0.47.hdf5\n",
      "15/15 [==============================] - 1s 35ms/step - loss: 0.0041 - val_loss: 0.4705\n",
      "Epoch 11/24\n",
      " 7/15 [=============>................] - ETA: 0s - loss: 0.0043"
     ]
    },
    {
     "ename": "KeyboardInterrupt",
     "evalue": "",
     "output_type": "error",
     "traceback": [
      "\u001b[1;31m---------------------------------------------------------------------------\u001b[0m",
      "\u001b[1;31mKeyboardInterrupt\u001b[0m                         Traceback (most recent call last)",
      "\u001b[1;32m<ipython-input-13-1aa37c49d0b4>\u001b[0m in \u001b[0;36m<module>\u001b[1;34m\u001b[0m\n\u001b[0;32m     14\u001b[0m                     \u001b[0msteps_per_epoch\u001b[0m\u001b[1;33m=\u001b[0m \u001b[1;33m(\u001b[0m\u001b[0mlen\u001b[0m\u001b[1;33m(\u001b[0m\u001b[0mdata\u001b[0m\u001b[1;33m)\u001b[0m \u001b[1;33m-\u001b[0m \u001b[0mwindow\u001b[0m\u001b[1;33m)\u001b[0m\u001b[1;33m/\u001b[0m\u001b[1;33m(\u001b[0m\u001b[0mbatch\u001b[0m\u001b[1;33m*\u001b[0m\u001b[0mstride\u001b[0m\u001b[1;33m)\u001b[0m\u001b[1;33m,\u001b[0m\u001b[1;33m\u001b[0m\u001b[1;33m\u001b[0m\u001b[0m\n\u001b[0;32m     15\u001b[0m                     \u001b[0muse_multiprocessing\u001b[0m\u001b[1;33m=\u001b[0m\u001b[1;32mFalse\u001b[0m\u001b[1;33m,\u001b[0m\u001b[1;33m\u001b[0m\u001b[1;33m\u001b[0m\u001b[0m\n\u001b[1;32m---> 16\u001b[1;33m                     shuffle=False)\n\u001b[0m",
      "\u001b[1;32mD:\\Anaconda\\envs\\tensor14\\lib\\site-packages\\tensorflow\\python\\keras\\engine\\training.py\u001b[0m in \u001b[0;36mfit_generator\u001b[1;34m(self, generator, steps_per_epoch, epochs, verbose, callbacks, validation_data, validation_steps, validation_freq, class_weight, max_queue_size, workers, use_multiprocessing, shuffle, initial_epoch)\u001b[0m\n\u001b[0;32m   1431\u001b[0m         \u001b[0mshuffle\u001b[0m\u001b[1;33m=\u001b[0m\u001b[0mshuffle\u001b[0m\u001b[1;33m,\u001b[0m\u001b[1;33m\u001b[0m\u001b[1;33m\u001b[0m\u001b[0m\n\u001b[0;32m   1432\u001b[0m         \u001b[0minitial_epoch\u001b[0m\u001b[1;33m=\u001b[0m\u001b[0minitial_epoch\u001b[0m\u001b[1;33m,\u001b[0m\u001b[1;33m\u001b[0m\u001b[1;33m\u001b[0m\u001b[0m\n\u001b[1;32m-> 1433\u001b[1;33m         steps_name='steps_per_epoch')\n\u001b[0m\u001b[0;32m   1434\u001b[0m \u001b[1;33m\u001b[0m\u001b[0m\n\u001b[0;32m   1435\u001b[0m   def evaluate_generator(self,\n",
      "\u001b[1;32mD:\\Anaconda\\envs\\tensor14\\lib\\site-packages\\tensorflow\\python\\keras\\engine\\training_generator.py\u001b[0m in \u001b[0;36mmodel_iteration\u001b[1;34m(model, data, steps_per_epoch, epochs, verbose, callbacks, validation_data, validation_steps, validation_freq, class_weight, max_queue_size, workers, use_multiprocessing, shuffle, initial_epoch, mode, batch_size, steps_name, **kwargs)\u001b[0m\n\u001b[0;32m    262\u001b[0m \u001b[1;33m\u001b[0m\u001b[0m\n\u001b[0;32m    263\u001b[0m       \u001b[0mis_deferred\u001b[0m \u001b[1;33m=\u001b[0m \u001b[1;32mnot\u001b[0m \u001b[0mmodel\u001b[0m\u001b[1;33m.\u001b[0m\u001b[0m_is_compiled\u001b[0m\u001b[1;33m\u001b[0m\u001b[1;33m\u001b[0m\u001b[0m\n\u001b[1;32m--> 264\u001b[1;33m       \u001b[0mbatch_outs\u001b[0m \u001b[1;33m=\u001b[0m \u001b[0mbatch_function\u001b[0m\u001b[1;33m(\u001b[0m\u001b[1;33m*\u001b[0m\u001b[0mbatch_data\u001b[0m\u001b[1;33m)\u001b[0m\u001b[1;33m\u001b[0m\u001b[1;33m\u001b[0m\u001b[0m\n\u001b[0m\u001b[0;32m    265\u001b[0m       \u001b[1;32mif\u001b[0m \u001b[1;32mnot\u001b[0m \u001b[0misinstance\u001b[0m\u001b[1;33m(\u001b[0m\u001b[0mbatch_outs\u001b[0m\u001b[1;33m,\u001b[0m \u001b[0mlist\u001b[0m\u001b[1;33m)\u001b[0m\u001b[1;33m:\u001b[0m\u001b[1;33m\u001b[0m\u001b[1;33m\u001b[0m\u001b[0m\n\u001b[0;32m    266\u001b[0m         \u001b[0mbatch_outs\u001b[0m \u001b[1;33m=\u001b[0m \u001b[1;33m[\u001b[0m\u001b[0mbatch_outs\u001b[0m\u001b[1;33m]\u001b[0m\u001b[1;33m\u001b[0m\u001b[1;33m\u001b[0m\u001b[0m\n",
      "\u001b[1;32mD:\\Anaconda\\envs\\tensor14\\lib\\site-packages\\tensorflow\\python\\keras\\engine\\training.py\u001b[0m in \u001b[0;36mtrain_on_batch\u001b[1;34m(self, x, y, sample_weight, class_weight, reset_metrics)\u001b[0m\n\u001b[0;32m   1173\u001b[0m       \u001b[0mself\u001b[0m\u001b[1;33m.\u001b[0m\u001b[0m_update_sample_weight_modes\u001b[0m\u001b[1;33m(\u001b[0m\u001b[0msample_weights\u001b[0m\u001b[1;33m=\u001b[0m\u001b[0msample_weights\u001b[0m\u001b[1;33m)\u001b[0m\u001b[1;33m\u001b[0m\u001b[1;33m\u001b[0m\u001b[0m\n\u001b[0;32m   1174\u001b[0m       \u001b[0mself\u001b[0m\u001b[1;33m.\u001b[0m\u001b[0m_make_train_function\u001b[0m\u001b[1;33m(\u001b[0m\u001b[1;33m)\u001b[0m\u001b[1;33m\u001b[0m\u001b[1;33m\u001b[0m\u001b[0m\n\u001b[1;32m-> 1175\u001b[1;33m       \u001b[0moutputs\u001b[0m \u001b[1;33m=\u001b[0m \u001b[0mself\u001b[0m\u001b[1;33m.\u001b[0m\u001b[0mtrain_function\u001b[0m\u001b[1;33m(\u001b[0m\u001b[0mins\u001b[0m\u001b[1;33m)\u001b[0m  \u001b[1;31m# pylint: disable=not-callable\u001b[0m\u001b[1;33m\u001b[0m\u001b[1;33m\u001b[0m\u001b[0m\n\u001b[0m\u001b[0;32m   1176\u001b[0m \u001b[1;33m\u001b[0m\u001b[0m\n\u001b[0;32m   1177\u001b[0m     \u001b[1;32mif\u001b[0m \u001b[0mreset_metrics\u001b[0m\u001b[1;33m:\u001b[0m\u001b[1;33m\u001b[0m\u001b[1;33m\u001b[0m\u001b[0m\n",
      "\u001b[1;32mD:\\Anaconda\\envs\\tensor14\\lib\\site-packages\\tensorflow\\python\\keras\\backend.py\u001b[0m in \u001b[0;36m__call__\u001b[1;34m(self, inputs)\u001b[0m\n\u001b[0;32m   3290\u001b[0m \u001b[1;33m\u001b[0m\u001b[0m\n\u001b[0;32m   3291\u001b[0m     fetched = self._callable_fn(*array_vals,\n\u001b[1;32m-> 3292\u001b[1;33m                                 run_metadata=self.run_metadata)\n\u001b[0m\u001b[0;32m   3293\u001b[0m     \u001b[0mself\u001b[0m\u001b[1;33m.\u001b[0m\u001b[0m_call_fetch_callbacks\u001b[0m\u001b[1;33m(\u001b[0m\u001b[0mfetched\u001b[0m\u001b[1;33m[\u001b[0m\u001b[1;33m-\u001b[0m\u001b[0mlen\u001b[0m\u001b[1;33m(\u001b[0m\u001b[0mself\u001b[0m\u001b[1;33m.\u001b[0m\u001b[0m_fetches\u001b[0m\u001b[1;33m)\u001b[0m\u001b[1;33m:\u001b[0m\u001b[1;33m]\u001b[0m\u001b[1;33m)\u001b[0m\u001b[1;33m\u001b[0m\u001b[1;33m\u001b[0m\u001b[0m\n\u001b[0;32m   3294\u001b[0m     output_structure = nest.pack_sequence_as(\n",
      "\u001b[1;32mD:\\Anaconda\\envs\\tensor14\\lib\\site-packages\\tensorflow\\python\\client\\session.py\u001b[0m in \u001b[0;36m__call__\u001b[1;34m(self, *args, **kwargs)\u001b[0m\n\u001b[0;32m   1456\u001b[0m         ret = tf_session.TF_SessionRunCallable(self._session._session,\n\u001b[0;32m   1457\u001b[0m                                                \u001b[0mself\u001b[0m\u001b[1;33m.\u001b[0m\u001b[0m_handle\u001b[0m\u001b[1;33m,\u001b[0m \u001b[0margs\u001b[0m\u001b[1;33m,\u001b[0m\u001b[1;33m\u001b[0m\u001b[1;33m\u001b[0m\u001b[0m\n\u001b[1;32m-> 1458\u001b[1;33m                                                run_metadata_ptr)\n\u001b[0m\u001b[0;32m   1459\u001b[0m         \u001b[1;32mif\u001b[0m \u001b[0mrun_metadata\u001b[0m\u001b[1;33m:\u001b[0m\u001b[1;33m\u001b[0m\u001b[1;33m\u001b[0m\u001b[0m\n\u001b[0;32m   1460\u001b[0m           \u001b[0mproto_data\u001b[0m \u001b[1;33m=\u001b[0m \u001b[0mtf_session\u001b[0m\u001b[1;33m.\u001b[0m\u001b[0mTF_GetBuffer\u001b[0m\u001b[1;33m(\u001b[0m\u001b[0mrun_metadata_ptr\u001b[0m\u001b[1;33m)\u001b[0m\u001b[1;33m\u001b[0m\u001b[1;33m\u001b[0m\u001b[0m\n",
      "\u001b[1;31mKeyboardInterrupt\u001b[0m: "
     ]
    }
   ],
   "source": [
    "import datetime\n",
    "import os\n",
    "mod_path='./seq2seq/mod/20200212_48before/'\n",
    "if not os.path.exists(mod_path):\n",
    "    os.makedirs(mod_path)\n",
    "checkpointer = ModelCheckpoint(filepath=mod_path+\"weights-{epoch:02d}-{val_loss:.2f}.hdf5\",\n",
    "                               monitor='val_loss',mode='max',verbose=1, save_best_only=False,save_weights_only=True)\n",
    "log_dir=r\"./seq2seq/log/\" + datetime.datetime.now().strftime(\"%Y%m%d-%H%M%S\")\n",
    "tensorboard_callback = tf.keras.callbacks.TensorBoard(log_dir=log_dir, histogram_freq=1)\n",
    "model.fit_generator(train_generator,epochs=24,                    \n",
    "                    workers=1,callbacks=[checkpointer,tensorboard_callback], \n",
    "                    validation_data=test_generator,\n",
    "                    validation_steps=10,\n",
    "                    steps_per_epoch= (len(data) - window)/(batch*stride),\n",
    "                    use_multiprocessing=False, \n",
    "                    shuffle=False)"
   ]
  },
  {
   "cell_type": "code",
   "execution_count": 7,
   "metadata": {
    "collapsed": true
   },
   "outputs": [],
   "source": [
    "# del model\n",
    "model.load_weights('./seq2seq/mod/20200212/weights-24-1.36.hdf5')"
   ]
  },
  {
   "cell_type": "code",
   "execution_count": 48,
   "metadata": {
    "collapsed": true
   },
   "outputs": [],
   "source": [
    "from tensorflow.keras.models import Sequential, load_model, Model\n",
    "visu=Model(inputs=model.inputs,outputs=model.layers[6].output)"
   ]
  },
  {
   "cell_type": "code",
   "execution_count": 49,
   "metadata": {},
   "outputs": [
    {
     "data": {
      "text/plain": [
       "Text(0, 0.5, 'trend')"
      ]
     },
     "execution_count": 49,
     "metadata": {},
     "output_type": "execute_result"
    },
    {
     "data": {
      "image/png": "[encoded data removed]",
      "text/plain": [
       "<Figure size 432x288 with 1 Axes>"
      ]
     },
     "metadata": {
      "needs_background": "light"
     },
     "output_type": "display_data"
    }
   ],
   "source": [
    "import  matplotlib.pyplot as plt\n",
    "plt.cla()\n",
    "actual=[]\n",
    "predict=[]\n",
    "activation=np.array([])\n",
    "split=60\n",
    "# train_generator=data_generator(new[split:],label[split:],batch=batch, window=window, forward=forward, stride=stride)\n",
    "# test_generator=data_generator(new[:split],label[:split],batch=batch, window=window, forward=forward, stride=stride)\n",
    "# total_generator=data_generator(new[:],label,batch=batch, window=window, forward=forward, stride=stride)\n",
    "train_generator=data_generator(new[:split],label[:split],batch=batch, window=window, forward=forward, stride=stride)\n",
    "test_generator=data_generator(new[split:],label[split:],batch=batch, window=window, forward=forward, stride=stride)\n",
    "total_generator=data_generator(new[:],label,batch=batch, window=window, forward=forward, stride=stride)\n",
    "\n",
    "for k in range(int(90/(stride*batch))+1):\n",
    "    x,y=total_generator.__next__()\n",
    "#     print(x)\n",
    "#     print('-------------------')\n",
    "#     print(y)\n",
    "#     print('==================================')\n",
    "    actual=actual+y[:].reshape(-1).tolist()\n",
    "    predict=predict+model.predict(x)[:].reshape(-1).tolist()\n",
    "    for index,i in enumerate(visu.predict(x)):\n",
    "        if len(activation)==0:\n",
    "            activation=i.reshape(-1)\n",
    "#             print(activation.shape)\n",
    "        else:\n",
    "            activation[-3:]=activation[-3:]+i.reshape(-1)[:3]\n",
    "            activation=np.append(activation,i.reshape(-1)[-3:])\n",
    "plt.plot(actual[0:90])\n",
    "plt.plot(predict[0:90])\n",
    "plt.plot(split-6, actual[split-6], color = '0.9', linewidth=1,\n",
    "               markersize = 13, marker='.',\n",
    "               markeredgecolor = '0.10', markerfacecolor = '0.75')\n",
    "plt.legend([\"actual\",\"predict\"])\n",
    "plt.xlabel('months')\n",
    "plt.ylabel('trend')"
   ]
  },
  {
   "cell_type": "code",
   "execution_count": 50,
   "metadata": {},
   "outputs": [
    {
     "data": {
      "text/plain": [
       "(10, 90)"
      ]
     },
     "execution_count": 50,
     "metadata": {},
     "output_type": "execute_result"
    }
   ],
   "source": [
    "bar=[list(activation[0:90])]\n",
    "for i in range(9):\n",
    "    bar.append(list(activation[0:90]))\n",
    "bar=np.array(bar)\n",
    "plt.imshow(bar)"
   ]
  }
 ],
 "metadata": {
  "kernelspec": {
   "display_name": "tensor14",
   "language": "python",
   "name": "tensor14"
  },
  "language_info": {
   "codemirror_mode": {
    "name": "ipython",
    "version": 3
   },
   "file_extension": ".py",
   "mimetype": "text/x-python",
   "name": "python",
   "nbconvert_exporter": "python",
   "pygments_lexer": "ipython3",
   "version": "3.6.9"
  },
  "varInspector": {
   "cols": {
    "lenName": 16,
    "lenType": 16,
    "lenVar": 40
   },
   "kernels_config": {
    "python": {
     "delete_cmd_postfix": "",
     "delete_cmd_prefix": "del ",
     "library": "var_list.py",
     "varRefreshCmd": "print(var_dic_list())"
    },
    "r": {
     "delete_cmd_postfix": ") ",
     "delete_cmd_prefix": "rm(",
     "library": "var_list.r",
     "varRefreshCmd": "cat(var_dic_list()) "
    }
   },
   "types_to_exclude": [
    "module",
    "function",
    "builtin_function_or_method",
    "instance",
    "_Feature"
   ],
   "window_display": false
  }
 },
 "nbformat": 4,
 "nbformat_minor": 2
}
